{
 "cells": [
  {
   "cell_type": "markdown",
   "id": "147f1197",
   "metadata": {},
   "source": [
    "# Project-2: Sparse Representations\n",
    "\n",
    "In this project, you will implement sparse representation algorithms for solvng the $P_{0}, P_{1}$ problem for an underdetermined setup.\n",
    "\n",
    "## Review of Relevant concepts\n",
    "\n",
    "Recall that we want to be able to solve the following problem which we denote by $P_{0}$:\n",
    "\n",
    "$\\left(P_{0}\\right): \\mathbf{x}^{\\star} = \\text{argmin}_{\\mathbf{x}} \\Vert \\mathbf{x} \\Vert_{0}$ s.t. $\\mathbf{b} = \\mathbf{A}\\mathbf{x}$\n",
    "\n",
    "where we assume that $\\mathbf{b} \\in \\mathbb{R}^{n}, \\mathbf{A} \\in \\mathbb{R}^{n \\times m} \\text{ and } \\mathbf{x} \\in \\mathbb{R}^{m}$ with $n << m$. So, $\\mathbf{x}$ is considered to be a *tall* vector with many of the entries possibly zero. Our objective therefore is to find $\\mathbf{x}$ which consists of two effective parts to be found:\n",
    "\n",
    "- The **support** of $\\mathbf{x}$ defined as $\\mathcal{S}_x = \\lbrace i: x_i \\neq 0 \\rbrace $,\n",
    "- The elements of $\\mathbf{x}$ over $\\mathcal{S}_x$, which we can refer to as $\\mathbf{x}_{\\mathcal{S}_x}$. \n",
    "\n",
    "Also, recall that the $\\ell_0$ norm is equal to the cardinality of such a support set $\\mathcal{S}_x$.\n",
    "\n",
    "### Relation between $\\ell_{0}$ and $\\text{spark}$\n",
    "\n",
    "**Spark**: The spark of a matrix is the **smallest** number of **linearly dependent** columns\n",
    "\n",
    "$\\text{spark}\\left(\\mathbf{A}\\right) = \\text{min}_{\\mathbf{x} \\in \\mathbb{R}^m} \\Vert \\mathbf{x} \\Vert_{0}$ s.t. $\\mathbf{A}\\mathbf{x} = \\boldsymbol{0}, \\mathbf{x} \\neq \\boldsymbol{0}$\n",
    "\n",
    "- The non-zero vectors in the null space of $\\mathbf{A}$ satisfy: $\\Vert \\mathbf{x} \\Vert_{0} \\geq \\text{spark}\\left(\\mathbf{A}\\right)$\n",
    "\n",
    "- For $\\mathbf{A}\\mathbf{x} = \\mathbf{b}$, the **sparsest** solution necessarily satisfies the relation $\\Vert \\mathbf{x} \\Vert_{0} < \\frac{1}{2}\\text{spark}\\left(\\mathbf{A}\\right)$\n",
    "\n",
    "- $2 \\leq \\text{spark}\\left(\\mathbf{A}\\right) \\leq n + 1$\n",
    "\n",
    "Spark helps to guarantee uniqueness of sparse solutions, but finding spark of a matrix is combinatorial problem. So, we choose to solve the $\\ell_{0}$ problem via Greedy algorithms or smoothing penalty algorithms\n",
    "\n",
    "# Greedy algorithms\n",
    "\n",
    "**Phase transition** refers to a sudden change in the reconstruction quality from bad reconstruction quality to very good reconstruction quality, when the number of obervations $n$ is increased. \n",
    "\n",
    "### Orthogonal Matching Pursuit (OMP)\n",
    "\n",
    "OMP is a greedy solution to the support-finding problem. We are assumed to be given as inputs: $\\mathbf{A}$, $\\mathbf{b}$ and $k_0$ (sparsity level of $\\mathbf{x}$). This consists of the following parts:\n",
    "\n",
    "1. Initialization\n",
    "    - Set $k=0$ (iteration counter)\n",
    "    - Set initial support set $\\mathcal{S}_x^{(0)} = \\phi$\n",
    "    - Set initial residual to be $\\mathbf{r}^{(0)} = \\mathbf{b}$\n",
    "    - Set error threshold $\\varepsilon$\n",
    "\n",
    "2. Repeat until either $\\Vert\\mathbf{r}^{(k)} \\Vert_2 < \\varepsilon$ or max no. of iterations is completed or $\\Vert\\mathbf{r}^{(k)} \\Vert_2 > \\Vert\\mathbf{r}^{(k-1)} \\Vert_2$\n",
    "\n",
    "    - Sweep stage: Compute errors.\n",
    "    \n",
    "    - Update support $\\mathcal{S}_x^{(k)}$\n",
    "    - Update residual $\\mathbf{r}^{(k)}$ \n",
    "    - Update k\n",
    "\n",
    "3. Finally get $\\hat{x} \\in \\mathbb{R}^N$ with $\\hat{\\mathbf{x}}_{\\mathcal{S}_x^{(k)}} = \\mathbf{A}_{\\mathcal{S}_x^{(k)}}^{\\dagger}\\mathbf{b}$ and remaining part as zeros.\n",
    "\n",
    "### Basis pursuit (BP)\n",
    "\n",
    "Basis pursuit is a smoothing penalty approach to solving the $\\ell_{0}$ problem. It involves using $\\ell_1$ norm minimization and hence is a relaxation of $\\ell_{0}$ problem. We wish to solve the following problem:\n",
    "\n",
    "$\\left(P_{1}\\right): \\mathbf{x}^{\\star} = \\text{argmin}_{\\mathbf{x}} \\Vert \\mathbf{x} \\Vert_{1}$ s.t. $\\mathbf{b} = \\mathbf{A}\\mathbf{x}$\n",
    "\n",
    "In the lecture, you have seen that this is a convex problem and can be implemented using linear programming (some pseduocode also given in the lecture slides). \n",
    "\n",
    "# Tasks\n",
    "\n",
    "In this project, your task is to recover the sparse vector $\\mathbf{x} \\in \\mathbb{R}^{m}$ with sparsity level $k \\triangleq \\Vert \\mathbf{x} \\Vert_0 << m$. Typically this sparsity level is somewhere between $5-10\\%$. For the observation model, generate a random matrix instance $\\mathbf{A} \\in \\mathbb{R}^{n \\times m}$ and create an observation vector $\\mathbf{b} = \\mathbf{A}\\mathbf{x}$. Then, try to reconstruct $\\mathbf{x}$ from the observations $\\mathbf{b}$ using:\n",
    "\n",
    "1. Implement orthogonal matching pursuit (OMP) algorithm for reconstruction of $\\mathbf{x}$ from the observations $\\mathbf{b}$. \n",
    "2. Implement basis pursuit (BP) algorithm for reconstruction of $\\mathbf{x}$ from the observations $\\mathbf{b}$. \n",
    "3. For each case, try to show the phase transition in your results. You can try to plot a quality measure such as normalized mean squared error in dB scale vs. the ratio $\\frac{n}{m}$, where $n$ represents the dimension of the observation vector and $m$ represents the dimension of the input vector $\\mathbf{x}$. \n",
    "4. Compare the algorithms in terms of phase transitions and check if one of the algorithms exhibits a phase transition for a smaller value of $\\frac{n}{m}$ compared to the other(s) or not.\n",
    "\n",
    "*Optional task: Also implement another greedy algorithm (psuedocode available in lecture slides) known as subspace pursuit (SP). Analyse the phase transition.*\n",
    "\n",
    "Some code segments and function signatures are provided. You should fill in the functions. Perform all (or as many as you can) of the tasks in this project assignment. You are going to present your work to the course responsible or one of the teaching assistants (TA) and it pays off to have a clear, well structured and brief notebook. Include an algorithmic solution and/or numerical result and/or graphs wherever asked to illustrate your results (you can do this in the notebook itself using Markdown). Your code should be functioning and easy to read.\n",
    "\n",
    "## Libraries\n",
    "\n",
    "You should use Python for implementation. The algorithms OMP, BP should be implemented without using dedicated library functions from `scikit-learn`. You can use: `numpy`, `scipy`, `matplotlib`, `cvxpy`. "
   ]
  },
  {
   "cell_type": "markdown",
   "id": "ab952879",
   "metadata": {},
   "source": [
    "## Import necessary libraries"
   ]
  },
  {
   "cell_type": "code",
   "execution_count": 9,
   "id": "25a56ae1",
   "metadata": {},
   "outputs": [
    {
     "name": "stdout",
     "output_type": "stream",
     "text": [
      "numpy==1.22.3\n",
      "cvxpy==1.1.17\n"
     ]
    }
   ],
   "source": [
    "import numpy as np\n",
    "import matplotlib.pyplot as plt\n",
    "import cvxpy as cp\n",
    "\n",
    "print(\"numpy=={}\".format(np.__version__))\n",
    "print(\"cvxpy=={}\".format(cp.__version__))"
   ]
  },
  {
   "cell_type": "markdown",
   "id": "3ed8fe7f",
   "metadata": {},
   "source": [
    "# Generate the data for testing the OMP algorithm\n",
    "\n",
    "We seek to generate $\\mathbf{x} \\in \\mathbb{R}^m$ having sparsity level $k_0 \\triangleq \\Vert \\mathbf{x} \\Vert_0 << m$. "
   ]
  },
  {
   "cell_type": "code",
   "execution_count": 3,
   "id": "f32d54d8",
   "metadata": {},
   "outputs": [],
   "source": [
    "# Generate a vector x having sparsity level k_0 \n",
    "# m is is the length of the vector x\n",
    "# k0 is the the sparsity of x\n",
    "def create_sparse_x(m, k0):\n",
    "    x = np.zeros(m)\n",
    "    x[:k0] = np.random.rand(k0)\n",
    "    np.random.shuffle(x)\n",
    "    return x\n",
    "\n",
    "# Generate the observation matrix as a random matrix instance\n",
    "def initialise_random_matrix(M, N):\n",
    "    return np.random.rand(M,N)\n",
    "\n",
    "# Generate the observation vector b\n",
    "def create_observation_vector(A, x):\n",
    "    return A@x"
   ]
  },
  {
   "cell_type": "code",
   "execution_count": 4,
   "id": "8adba767",
   "metadata": {},
   "outputs": [],
   "source": [
    "# Compute the Normalized mean squared error (NMSE) between the original x and reconstruction x_hat using OMP\n",
    "def compute_NMSE(x, x_hat):\n",
    "    return np.linalg.norm(x - x_hat)**2 / np.linalg.norm(x) **2"
   ]
  },
  {
   "cell_type": "code",
   "execution_count": 9,
   "id": "afa4b46a",
   "metadata": {},
   "outputs": [],
   "source": [
    "# Construct the reconstruction x_hat from the support set S_x_hat and the fixed observation vector A\n",
    "# def construct_x_hat(x_hat_Sx, S_x_hat, A):\n",
    "#     # Insert code here\n",
    "#     return None"
   ]
  },
  {
   "cell_type": "markdown",
   "id": "4863d0fd",
   "metadata": {},
   "source": [
    "## Implementing the Orthogonal Matching Pursuit algorithm\n",
    "\n",
    "You should use mainly `numpy` libraries"
   ]
  },
  {
   "cell_type": "markdown",
   "id": "6ad5e3c2",
   "metadata": {},
   "source": [
    "草稿\n",
    "\n",
    "OMP is a greedy solution to the support-finding problem. We are assumed to be given as inputs: $\\mathbf{A}$, $\\mathbf{b}$ and $k_0$ (sparsity level of $\\mathbf{x}$). This consists of the following parts:\n",
    "\n",
    "1. Initialization\n",
    "    - Set $k=0$ (iteration counter)\n",
    "    - Set initial support set $\\mathcal{S}_x^{(0)} = \\phi$\n",
    "    - Set initial residual to be $\\mathbf{r}^{(0)} = \\mathbf{b}$\n",
    "    - Set error threshold $\\varepsilon$\n",
    "\n",
    "2. Repeat until either $\\Vert\\mathbf{r}^{(k)} \\Vert_2 < \\varepsilon$ or max no. of iterations is completed or $\\Vert\\mathbf{r}^{(k)} \\Vert_2 > \\Vert\\mathbf{r}^{(k-1)} \\Vert_2$\n",
    "\n",
    "    - Sweep stage: Compute errors.\n",
    "    \n",
    "    - Update support $\\mathcal{S}_x^{(k)}$\n",
    "    - Update residual $\\mathbf{r}^{(k)}$ \n",
    "    - Update k\n",
    "\n",
    "3. Finally get $\\hat{x} \\in \\mathbb{R}^N$ with $\\hat{\\mathbf{x}}_{\\mathcal{S}_x^{(k)}} = \\mathbf{A}_{\\mathcal{S}_x^{(k)}}^{\\dagger}\\mathbf{b}$ and remaining part as zeros."
   ]
  },
  {
   "cell_type": "code",
   "execution_count": 5,
   "id": "06f239c5",
   "metadata": {},
   "outputs": [],
   "source": [
    "def run_OMP(A, b, k0, tol=1e-4, maxiter=100):\n",
    "    # A: dictionary\n",
    "    # b: observed signal\n",
    "    # k0: sparsity level\n",
    "    # tol: tolerence, or target error\n",
    "    # maxtier: max number of interations\n",
    "    if maxiter > k0:\n",
    "        maxiter = k0\n",
    "    \n",
    "    # Initialization\n",
    "    S_x_hat = []\n",
    "    r = b\n",
    "\n",
    "    ## Iterartion Loop:\n",
    "    for k in range(maxiter):\n",
    "        j = np.argmax(np.abs(A.T.dot(r))) # index of the highest amplitude\n",
    "        S_x_hat.append(j)\n",
    "\n",
    "        A_Sx = np.zeros(A.shape)\n",
    "        for i in S_x_hat:\n",
    "            A_Sx[:,i] = A[:,i]\n",
    "\n",
    "        x = np.linalg.pinv(A_Sx) @ b\n",
    "        x_hat_Sx = np.zeros(x.shape)\n",
    "        for i in S_x_hat:\n",
    "            x_hat_Sx[i] = x[i]\n",
    "\n",
    "        r_old = r\n",
    "        r = b - A_Sx @ x_hat_Sx\n",
    "\n",
    "        # Error threshold\n",
    "        if (np.linalg.norm(r) < tol) or (np.linalg.norm(r) > np.linalg.norm(r_old)):\n",
    "            break\n",
    "    \n",
    "    return x_hat_Sx, S_x_hat # reconstructed sparse x from our observation\n",
    "    "
   ]
  },
  {
   "cell_type": "markdown",
   "id": "b97fa2d6",
   "metadata": {},
   "source": [
    "## Implementing the Basis pursuit algorithm\n",
    "\n",
    "You can use the `cvxpy` package for the implementation"
   ]
  },
  {
   "cell_type": "markdown",
   "id": "1b22a1f6",
   "metadata": {},
   "source": [
    "### Basis pursuit (BP)\n",
    "\n",
    "Basis pursuit is a smoothing penalty approach to solving the $\\ell_{0}$ problem. It involves using $\\ell_1$ norm minimization and hence is a relaxation of $\\ell_{0}$ problem. We wish to solve the following problem:\n",
    "\n",
    "$\\left(P_{1}\\right): \\mathbf{x}^{\\star} = \\text{argmin}_{\\mathbf{x}} \\Vert \\mathbf{x} \\Vert_{1}$ s.t. $\\mathbf{b} = \\mathbf{A}\\mathbf{x}$\n",
    "\n",
    "In the lecture, you have seen that this is a convex problem and can be implemented using linear programming (some pseduocode also given in the lecture slides). "
   ]
  },
  {
   "cell_type": "code",
   "execution_count": 7,
   "id": "f4bf65e0",
   "metadata": {},
   "outputs": [],
   "source": [
    "def run_BP(A, b, k0, tol=1e-4, maxiter=100):\n",
    "    # Construct the problem.\n",
    "    x = cp.Variable(A.shape[1])\n",
    "    objective = cp.Minimize(cp.atoms.norm1(x))\n",
    "    constraints = [b == A @ x]\n",
    "    prob = cp.Problem(objective, constraints)\n",
    "    # The optimal objective value is returned by `prob.solve()`.\n",
    "    result = prob.solve()\n",
    "    # The optimal value for x is stored in `x.value`.\n",
    "    return x.value"
   ]
  },
  {
   "cell_type": "markdown",
   "id": "513dc387",
   "metadata": {},
   "source": [
    "## Plotting the NMSE vs $\\frac{n}{m}$ for OMP and BP\n",
    "\n",
    "We expect to see a **phase transition**, i.e. a sudden jump in the reconstruction quality from very bad reconstruction to a very good reconstruction quality when the number of observations $n$ is increased keeping $m$ fixed."
   ]
  },
  {
   "cell_type": "code",
   "execution_count": 11,
   "id": "b943d59f",
   "metadata": {},
   "outputs": [],
   "source": [
    "m = 200 # This is the length of the vector m. You can choose any other large value of m as well.\n",
    "k0 = 8 # Usually the sparsity level is 5-10 % the value of m\n",
    "x = create_sparse_x(m, k0)"
   ]
  },
  {
   "cell_type": "code",
   "execution_count": 12,
   "id": "ef68f161",
   "metadata": {},
   "outputs": [
    {
     "name": "stdout",
     "output_type": "stream",
     "text": [
      "n: 1, m: 200, nmse for OMP: 2.6715285067351675, nmse for BP: 2.6715284744698815\n",
      "n: 2, m: 200, nmse for OMP: 1.8184330622822755, nmse for BP: 2.480773854765004\n",
      "n: 3, m: 200, nmse for OMP: 2.7217609916258976, nmse for BP: 1.9489439268581\n",
      "n: 4, m: 200, nmse for OMP: 3.6081659387778595, nmse for BP: 2.438537087731157\n",
      "n: 5, m: 200, nmse for OMP: 2.139253785970995, nmse for BP: 1.5395066189455424\n",
      "n: 6, m: 200, nmse for OMP: 2.7534897203328903, nmse for BP: 2.3225068541375524\n",
      "n: 7, m: 200, nmse for OMP: 1.3974969612896193, nmse for BP: 1.0370704858269335\n",
      "n: 8, m: 200, nmse for OMP: 2.4926384993996886, nmse for BP: 1.6964227524315971\n",
      "n: 9, m: 200, nmse for OMP: 3.304601800863547, nmse for BP: 1.0631883307332453\n",
      "n: 10, m: 200, nmse for OMP: 3.559087056884049, nmse for BP: 1.3244210671922259\n",
      "n: 11, m: 200, nmse for OMP: 2.2165483613867396, nmse for BP: 0.7733010382029979\n",
      "n: 12, m: 200, nmse for OMP: 3.485654199170882, nmse for BP: 0.4355892052197348\n",
      "n: 13, m: 200, nmse for OMP: 3.1610673329296097, nmse for BP: 0.23321778967365075\n",
      "n: 14, m: 200, nmse for OMP: 2.5233142417350845, nmse for BP: 0.6818257317229319\n",
      "n: 15, m: 200, nmse for OMP: 3.401401889138829, nmse for BP: 0.9081873495109496\n",
      "n: 16, m: 200, nmse for OMP: 1.6565476109122195, nmse for BP: 0.8263042375801916\n",
      "n: 17, m: 200, nmse for OMP: 2.007683867065921, nmse for BP: 1.4372880108890165\n",
      "n: 18, m: 200, nmse for OMP: 1.806184603941578, nmse for BP: 0.20566850837659983\n",
      "n: 19, m: 200, nmse for OMP: 2.9465613925624283, nmse for BP: 0.969889736977543\n",
      "n: 20, m: 200, nmse for OMP: 1.0183958716722938, nmse for BP: 0.661833488177493\n",
      "n: 21, m: 200, nmse for OMP: 1.3314793830824216, nmse for BP: 0.8887955291109939\n",
      "n: 22, m: 200, nmse for OMP: 1.016407372767336, nmse for BP: 0.9688711614290221\n",
      "n: 23, m: 200, nmse for OMP: 1.4242001644908409, nmse for BP: 2.687597326275034e-17\n",
      "n: 24, m: 200, nmse for OMP: 2.8347542940799797, nmse for BP: 0.4862552461668766\n",
      "n: 25, m: 200, nmse for OMP: 0.9654018157142706, nmse for BP: 0.3662295381991853\n",
      "n: 26, m: 200, nmse for OMP: 0.2111291160757121, nmse for BP: 0.18308906248503157\n",
      "n: 27, m: 200, nmse for OMP: 0.6168149416040172, nmse for BP: 0.2090501602859825\n",
      "n: 28, m: 200, nmse for OMP: 0.769752846831774, nmse for BP: 5.805418083944321e-20\n",
      "n: 29, m: 200, nmse for OMP: 0.15035991313597644, nmse for BP: 3.7226334694817478e-19\n",
      "n: 30, m: 200, nmse for OMP: 1.2109966676633346, nmse for BP: 0.05667837082552406\n",
      "n: 31, m: 200, nmse for OMP: 0.8179408784481712, nmse for BP: 2.791911183486571e-20\n",
      "n: 32, m: 200, nmse for OMP: 0.02110391955273209, nmse for BP: 5.427588626293152e-18\n",
      "n: 33, m: 200, nmse for OMP: 0.37887475914272883, nmse for BP: 2.1311089811505816e-20\n",
      "n: 34, m: 200, nmse for OMP: 0.39482792330438865, nmse for BP: 0.17952797004124232\n",
      "n: 35, m: 200, nmse for OMP: 0.08612803332306984, nmse for BP: 3.8947510144394755e-20\n",
      "n: 36, m: 200, nmse for OMP: 1.8925424755287586e-05, nmse for BP: 1.466800941286704e-18\n",
      "n: 37, m: 200, nmse for OMP: 0.015156750814772519, nmse for BP: 5.0164191549267795e-18\n",
      "n: 38, m: 200, nmse for OMP: 1.1903963974607612, nmse for BP: 0.00014053897146980963\n",
      "n: 39, m: 200, nmse for OMP: 0.06468659900135072, nmse for BP: 1.4758484497920068e-18\n",
      "n: 40, m: 200, nmse for OMP: 0.015777689721853613, nmse for BP: 1.2101879989610213e-18\n",
      "n: 41, m: 200, nmse for OMP: 0.07450804683816005, nmse for BP: 4.571694926725653e-21\n",
      "n: 42, m: 200, nmse for OMP: 1.720343181470857, nmse for BP: 9.163317476680343e-22\n",
      "n: 43, m: 200, nmse for OMP: 0.6137030700782156, nmse for BP: 1.730579115717096e-18\n",
      "n: 44, m: 200, nmse for OMP: 0.017040302538790342, nmse for BP: 1.2842816574508265e-20\n",
      "n: 45, m: 200, nmse for OMP: 1.0211945443657957, nmse for BP: 2.748903220816285e-20\n",
      "n: 46, m: 200, nmse for OMP: 2.028377743282773, nmse for BP: 2.9095547258933134e-20\n",
      "n: 47, m: 200, nmse for OMP: 1.5045784198786515e-05, nmse for BP: 8.551904001614271e-20\n",
      "n: 48, m: 200, nmse for OMP: 1.7701788776801787e-05, nmse for BP: 1.3648146779490506e-18\n",
      "n: 49, m: 200, nmse for OMP: 0.46299277268185085, nmse for BP: 8.811356340969513e-18\n",
      "n: 50, m: 200, nmse for OMP: 1.4657983103705316e-05, nmse for BP: 2.48534073256385e-18\n",
      "n: 51, m: 200, nmse for OMP: 0.1385920697057726, nmse for BP: 2.1529811852766347e-19\n",
      "n: 52, m: 200, nmse for OMP: 0.01475638445005077, nmse for BP: 8.67694074114354e-21\n",
      "n: 53, m: 200, nmse for OMP: 1.5896360014812197e-05, nmse for BP: 5.033876239814909e-19\n",
      "n: 54, m: 200, nmse for OMP: 0.06712174016304968, nmse for BP: 9.755166979974373e-20\n",
      "n: 55, m: 200, nmse for OMP: 0.058860107578452704, nmse for BP: 1.4421251356750592e-18\n",
      "n: 56, m: 200, nmse for OMP: 0.10316468585311103, nmse for BP: 7.998668060990395e-20\n",
      "n: 57, m: 200, nmse for OMP: 0.016215847097044867, nmse for BP: 1.5277190662098305e-22\n",
      "n: 58, m: 200, nmse for OMP: 0.19255805854525537, nmse for BP: 3.3672660274030064e-22\n",
      "n: 59, m: 200, nmse for OMP: 0.059034458459769526, nmse for BP: 2.2033880367379998e-20\n",
      "n: 60, m: 200, nmse for OMP: 1.504717909781259e-05, nmse for BP: 9.941409068829415e-20\n",
      "n: 61, m: 200, nmse for OMP: 0.01658434482887168, nmse for BP: 1.686177550818005e-21\n",
      "n: 62, m: 200, nmse for OMP: 0.016979219700070332, nmse for BP: 5.187088596507212e-20\n",
      "n: 63, m: 200, nmse for OMP: 0.13800864998585272, nmse for BP: 2.4254640234772633e-19\n",
      "n: 64, m: 200, nmse for OMP: 1.5076715020521838e-05, nmse for BP: 1.2713478669302287e-20\n",
      "n: 65, m: 200, nmse for OMP: 0.07053158964213146, nmse for BP: 1.6641761298880566e-19\n",
      "n: 66, m: 200, nmse for OMP: 0.01513980393596109, nmse for BP: 2.450267634890674e-22\n",
      "n: 67, m: 200, nmse for OMP: 0.12176017361519574, nmse for BP: 1.351683006019702e-21\n",
      "n: 68, m: 200, nmse for OMP: 1.5124213190830235e-05, nmse for BP: 1.15507812149325e-21\n",
      "n: 69, m: 200, nmse for OMP: 0.057216115761144916, nmse for BP: 6.055804242954224e-19\n",
      "n: 70, m: 200, nmse for OMP: 1.626629062325014e-05, nmse for BP: 2.4049638594825846e-21\n",
      "n: 71, m: 200, nmse for OMP: 0.05267846786173129, nmse for BP: 3.125577940881923e-20\n",
      "n: 72, m: 200, nmse for OMP: 0.03626652740843485, nmse for BP: 1.0178661394887263e-19\n",
      "n: 73, m: 200, nmse for OMP: 8.463740742086505e-31, nmse for BP: 5.136226268204812e-21\n",
      "n: 74, m: 200, nmse for OMP: 1.544932763608271e-05, nmse for BP: 2.4402162943420054e-22\n",
      "n: 75, m: 200, nmse for OMP: 1.4342064159149723e-05, nmse for BP: 1.438742182896482e-22\n",
      "n: 76, m: 200, nmse for OMP: 0.015936421627945833, nmse for BP: 1.226215555165746e-19\n",
      "n: 77, m: 200, nmse for OMP: 0.1236435044215876, nmse for BP: 4.207284484677121e-22\n",
      "n: 78, m: 200, nmse for OMP: 1.48393513817722e-05, nmse for BP: 3.4221896219981207e-20\n",
      "n: 79, m: 200, nmse for OMP: 1.4228022742132938e-05, nmse for BP: 1.6544048144556941e-19\n",
      "n: 80, m: 200, nmse for OMP: 0.014819487184319757, nmse for BP: 3.286971308416051e-22\n",
      "n: 81, m: 200, nmse for OMP: 1.3082987815253215e-30, nmse for BP: 4.200291960339459e-20\n",
      "n: 82, m: 200, nmse for OMP: 6.223236805460186e-32, nmse for BP: 1.866043815131157e-22\n",
      "n: 83, m: 200, nmse for OMP: 0.016026471863101868, nmse for BP: 4.987511332822363e-21\n",
      "n: 84, m: 200, nmse for OMP: 0.015690869767287816, nmse for BP: 1.934369722248374e-21\n",
      "n: 85, m: 200, nmse for OMP: 1.0633760454349582e-30, nmse for BP: 2.463432521760254e-20\n",
      "n: 86, m: 200, nmse for OMP: 0.05110628750366138, nmse for BP: 1.593573278106592e-20\n",
      "n: 87, m: 200, nmse for OMP: 0.014880466941864403, nmse for BP: 2.8880878177035367e-21\n",
      "n: 88, m: 200, nmse for OMP: 1.6294227724730147e-30, nmse for BP: 1.370803001831319e-20\n",
      "n: 89, m: 200, nmse for OMP: 3.6964155662879464e-31, nmse for BP: 1.789824870309162e-21\n",
      "n: 90, m: 200, nmse for OMP: 0.09010475592431728, nmse for BP: 1.2680103219690895e-22\n",
      "n: 91, m: 200, nmse for OMP: 1.4828611874961357e-05, nmse for BP: 3.502280543821808e-20\n",
      "n: 92, m: 200, nmse for OMP: 0.014963513512880519, nmse for BP: 4.75025439150519e-21\n",
      "n: 93, m: 200, nmse for OMP: 0.014144114229419545, nmse for BP: 1.2883485081906604e-20\n",
      "n: 94, m: 200, nmse for OMP: 1.1247174171131237e-30, nmse for BP: 1.1753875202142557e-20\n",
      "n: 95, m: 200, nmse for OMP: 8.153605968121136e-31, nmse for BP: 4.547872393662838e-21\n",
      "n: 96, m: 200, nmse for OMP: 1.4384395392921302e-05, nmse for BP: 2.6927296698574267e-19\n",
      "n: 97, m: 200, nmse for OMP: 0.014629166458667141, nmse for BP: 3.3684074161070133e-21\n",
      "n: 98, m: 200, nmse for OMP: 1.4890908147475487e-05, nmse for BP: 1.7777037959566684e-19\n",
      "n: 99, m: 200, nmse for OMP: 0.014210886139212158, nmse for BP: 4.790539859713832e-23\n",
      "n: 100, m: 200, nmse for OMP: 1.4778463071958849e-05, nmse for BP: 6.29442864401561e-23\n",
      "n: 101, m: 200, nmse for OMP: 1.5364082495012256e-05, nmse for BP: 8.163505813129798e-21\n",
      "n: 102, m: 200, nmse for OMP: 9.613720065273386e-31, nmse for BP: 2.975475119852088e-21\n",
      "n: 103, m: 200, nmse for OMP: 1.4738643152040617e-05, nmse for BP: 2.378775930098872e-19\n",
      "n: 104, m: 200, nmse for OMP: 0.013901807547221786, nmse for BP: 3.408230847898614e-22\n",
      "n: 105, m: 200, nmse for OMP: 1.4628478342271086e-05, nmse for BP: 2.9629790596639986e-21\n",
      "n: 106, m: 200, nmse for OMP: 0.05135076446150746, nmse for BP: 1.6236640160231846e-21\n",
      "n: 107, m: 200, nmse for OMP: 1.5166129809781254e-05, nmse for BP: 4.4095505359317776e-23\n",
      "n: 108, m: 200, nmse for OMP: 1.4107868043083897e-05, nmse for BP: 1.6271840124606514e-19\n",
      "n: 109, m: 200, nmse for OMP: 0.014895043496486675, nmse for BP: 1.1133235641121646e-19\n",
      "n: 110, m: 200, nmse for OMP: 1.4363841291549605e-05, nmse for BP: 1.4589365710786793e-22\n",
      "n: 111, m: 200, nmse for OMP: 1.470577045746462e-05, nmse for BP: 7.222396569148075e-22\n",
      "n: 112, m: 200, nmse for OMP: 1.618936613205761e-05, nmse for BP: 5.410416083958181e-22\n",
      "n: 113, m: 200, nmse for OMP: 6.2540357110421345e-31, nmse for BP: 2.611469156312014e-22\n",
      "n: 114, m: 200, nmse for OMP: 2.66246385845684e-30, nmse for BP: 4.0296840578202957e-22\n",
      "n: 115, m: 200, nmse for OMP: 0.014266271816328186, nmse for BP: 2.017142948180144e-22\n",
      "n: 116, m: 200, nmse for OMP: 3.8799608198337865e-31, nmse for BP: 6.84177395330819e-23\n",
      "n: 117, m: 200, nmse for OMP: 0.014810589352615904, nmse for BP: 6.518950128049847e-21\n",
      "n: 118, m: 200, nmse for OMP: 2.0851505411151605e-30, nmse for BP: 1.6170223649729289e-21\n",
      "n: 119, m: 200, nmse for OMP: 1.4092328159613825e-05, nmse for BP: 3.350185693503554e-22\n",
      "n: 120, m: 200, nmse for OMP: 2.4072906081068194e-30, nmse for BP: 4.861493738163706e-21\n",
      "n: 121, m: 200, nmse for OMP: 0.015352332973586255, nmse for BP: 5.218689303858535e-21\n",
      "n: 122, m: 200, nmse for OMP: 1.4284146808145485e-05, nmse for BP: 5.917992310493406e-22\n",
      "n: 123, m: 200, nmse for OMP: 7.6542476377116385e-31, nmse for BP: 1.4699319895249767e-23\n",
      "n: 124, m: 200, nmse for OMP: 1.4332616399473585e-05, nmse for BP: 7.168486039009381e-22\n",
      "n: 125, m: 200, nmse for OMP: 1.3745061669920313e-05, nmse for BP: 7.598946596100993e-22\n",
      "n: 126, m: 200, nmse for OMP: 2.8498486391191112e-31, nmse for BP: 4.303371115702606e-20\n",
      "n: 127, m: 200, nmse for OMP: 7.996392862992552e-31, nmse for BP: 2.0690317133705224e-20\n",
      "n: 128, m: 200, nmse for OMP: 9.724017828160782e-31, nmse for BP: 1.0325434786889295e-20\n",
      "n: 129, m: 200, nmse for OMP: 4.598517342493799e-31, nmse for BP: 3.29620225408835e-22\n",
      "n: 130, m: 200, nmse for OMP: 1.4833414427461956e-05, nmse for BP: 3.2123975164468175e-23\n",
      "n: 131, m: 200, nmse for OMP: 1.4247008611560933e-05, nmse for BP: 1.9708910399662745e-23\n",
      "n: 132, m: 200, nmse for OMP: 1.1682754954748143e-30, nmse for BP: 7.558665125268727e-22\n",
      "n: 133, m: 200, nmse for OMP: 1.4459770001169918e-05, nmse for BP: 1.5696188784830828e-22\n",
      "n: 134, m: 200, nmse for OMP: 1.4729795722865133e-05, nmse for BP: 4.21648397980149e-21\n",
      "n: 135, m: 200, nmse for OMP: 1.4239580668036791e-05, nmse for BP: 1.0316613170521276e-21\n",
      "n: 136, m: 200, nmse for OMP: 4.182747817514186e-31, nmse for BP: 4.465983558236343e-22\n",
      "n: 137, m: 200, nmse for OMP: 1.4297190575093572e-05, nmse for BP: 8.27758365736723e-22\n",
      "n: 138, m: 200, nmse for OMP: 0.014048489025077514, nmse for BP: 2.0662698689841335e-21\n",
      "n: 139, m: 200, nmse for OMP: 1.4218911531525243e-05, nmse for BP: 2.2825592036750133e-21\n",
      "n: 140, m: 200, nmse for OMP: 1.400201673814668e-05, nmse for BP: 4.214578150756813e-22\n",
      "n: 141, m: 200, nmse for OMP: 5.843732533875665e-31, nmse for BP: 4.3255155019906295e-22\n",
      "n: 142, m: 200, nmse for OMP: 1.4222997704962179e-05, nmse for BP: 4.7556045681878177e-20\n",
      "n: 143, m: 200, nmse for OMP: 1.4575609383382317e-05, nmse for BP: 3.219389587279384e-22\n",
      "n: 144, m: 200, nmse for OMP: 0.014618473067012902, nmse for BP: 1.2433551453623143e-21\n",
      "n: 145, m: 200, nmse for OMP: 3.8079902931450977e-31, nmse for BP: 2.529271003777104e-21\n",
      "n: 146, m: 200, nmse for OMP: 1.5295158362428292e-05, nmse for BP: 3.7744641469868225e-22\n",
      "n: 147, m: 200, nmse for OMP: 1.3717933077971997e-05, nmse for BP: 8.914426843575648e-22\n",
      "n: 148, m: 200, nmse for OMP: 1.4001923593904561e-05, nmse for BP: 9.905937515515e-22\n",
      "n: 149, m: 200, nmse for OMP: 0.014668696446497143, nmse for BP: 3.1859723600319845e-23\n",
      "n: 150, m: 200, nmse for OMP: 4.026173194370482e-31, nmse for BP: 3.967153567775027e-21\n",
      "n: 151, m: 200, nmse for OMP: 1.4648896507394554e-05, nmse for BP: 4.146463936762973e-22\n",
      "n: 152, m: 200, nmse for OMP: 8.116299256406451e-31, nmse for BP: 1.9942468820324753e-22\n",
      "n: 153, m: 200, nmse for OMP: 1.3999854717590254e-05, nmse for BP: 3.9941636360371308e-22\n",
      "n: 154, m: 200, nmse for OMP: 6.083299348135516e-31, nmse for BP: 9.647063791256604e-22\n",
      "n: 155, m: 200, nmse for OMP: 1.440621404339378e-05, nmse for BP: 1.0260599978066821e-21\n",
      "n: 156, m: 200, nmse for OMP: 0.014631215738129755, nmse for BP: 1.6920502364004776e-22\n",
      "n: 157, m: 200, nmse for OMP: 0.014042067478386367, nmse for BP: 5.238815016341919e-22\n",
      "n: 158, m: 200, nmse for OMP: 1.437549835121263e-05, nmse for BP: 3.719141670084283e-22\n",
      "n: 159, m: 200, nmse for OMP: 1.4534557117957485e-05, nmse for BP: 3.7708644466742403e-22\n",
      "n: 160, m: 200, nmse for OMP: 5.123263181990471e-31, nmse for BP: 5.902855619206167e-22\n",
      "n: 161, m: 200, nmse for OMP: 1.4501440386507845e-05, nmse for BP: 3.049696089276692e-22\n",
      "n: 162, m: 200, nmse for OMP: 1.4317591539387013e-05, nmse for BP: 7.226251670160854e-23\n",
      "n: 163, m: 200, nmse for OMP: 1.4786432619837608e-05, nmse for BP: 2.0040554115305803e-20\n",
      "n: 164, m: 200, nmse for OMP: 1.4052491726721282e-05, nmse for BP: 1.6283477819792203e-22\n",
      "n: 165, m: 200, nmse for OMP: 1.033830291584803e-30, nmse for BP: 1.7706599354851603e-22\n",
      "n: 166, m: 200, nmse for OMP: 1.4046499471407109e-05, nmse for BP: 3.27363067029817e-22\n",
      "n: 167, m: 200, nmse for OMP: 1.4376389089278713e-05, nmse for BP: 2.1571910661017104e-22\n",
      "n: 168, m: 200, nmse for OMP: 3.4833902388010518e-31, nmse for BP: 1.18646721438808e-21\n",
      "n: 169, m: 200, nmse for OMP: 2.1469166079824468e-30, nmse for BP: 2.0541320848856242e-23\n",
      "n: 170, m: 200, nmse for OMP: 1.4200469256406662e-05, nmse for BP: 2.3764006871121683e-22\n",
      "n: 171, m: 200, nmse for OMP: 9.328713744180015e-31, nmse for BP: 5.225636460649573e-23\n",
      "n: 172, m: 200, nmse for OMP: 1.4317484103453163e-05, nmse for BP: 9.383461977105458e-23\n",
      "n: 173, m: 200, nmse for OMP: 1.4347438722930848e-05, nmse for BP: 1.7591839575219178e-22\n",
      "n: 174, m: 200, nmse for OMP: 1.4565886369105705e-05, nmse for BP: 3.498189219849151e-23\n",
      "n: 175, m: 200, nmse for OMP: 4.8845154040472846e-31, nmse for BP: 1.4911235471570615e-22\n",
      "n: 176, m: 200, nmse for OMP: 1.4805729536391312e-05, nmse for BP: 5.512138770706085e-23\n",
      "n: 177, m: 200, nmse for OMP: 1.7776408701302327e-30, nmse for BP: 3.4375891624895677e-22\n",
      "n: 178, m: 200, nmse for OMP: 1.4583343601669064e-05, nmse for BP: 6.68059798326881e-23\n",
      "n: 179, m: 200, nmse for OMP: 1.541645010828758e-05, nmse for BP: 6.200740131103898e-24\n",
      "n: 180, m: 200, nmse for OMP: 4.726692600957735e-31, nmse for BP: 7.526904055071819e-23\n",
      "n: 181, m: 200, nmse for OMP: 1.3984114214785304e-05, nmse for BP: 4.865048916419645e-23\n",
      "n: 182, m: 200, nmse for OMP: 0.0137806038072672, nmse for BP: 1.983074979566111e-23\n",
      "n: 183, m: 200, nmse for OMP: 1.4492833709458488e-05, nmse for BP: 1.1350180962012572e-23\n",
      "n: 184, m: 200, nmse for OMP: 1.4928560856826549e-05, nmse for BP: 1.4670586640669295e-23\n",
      "n: 185, m: 200, nmse for OMP: 1.4592171490939545e-05, nmse for BP: 2.989095713167938e-23\n",
      "n: 186, m: 200, nmse for OMP: 1.3876239238463694e-05, nmse for BP: 1.0509616790809817e-23\n",
      "n: 187, m: 200, nmse for OMP: 1.4645558641409324e-05, nmse for BP: 6.81423410096193e-24\n",
      "n: 188, m: 200, nmse for OMP: 1.4582437634779983e-05, nmse for BP: 3.22436123995276e-23\n",
      "n: 189, m: 200, nmse for OMP: 1.4189705158415494e-05, nmse for BP: 7.735447624190029e-24\n",
      "n: 190, m: 200, nmse for OMP: 8.766883614971589e-31, nmse for BP: 1.2328905965130425e-22\n",
      "n: 191, m: 200, nmse for OMP: 1.4410520309329295e-05, nmse for BP: 1.3385429380636988e-24\n",
      "n: 192, m: 200, nmse for OMP: 1.3905520104283604e-05, nmse for BP: 2.888849757818856e-24\n",
      "n: 193, m: 200, nmse for OMP: 1.4252004766433269e-05, nmse for BP: 1.248993859007048e-24\n",
      "n: 194, m: 200, nmse for OMP: 1.3718328075184635e-05, nmse for BP: 4.853483903133717e-25\n",
      "n: 195, m: 200, nmse for OMP: 0.014093414285251515, nmse for BP: 1.9596146158879552e-21\n",
      "n: 196, m: 200, nmse for OMP: 1.4727626485453746e-05, nmse for BP: 3.941808089409883e-25\n",
      "n: 197, m: 200, nmse for OMP: 9.334734838635755e-31, nmse for BP: 2.62620148549751e-22\n",
      "n: 198, m: 200, nmse for OMP: 5.232959097105237e-31, nmse for BP: 3.8006660313405127e-22\n",
      "n: 199, m: 200, nmse for OMP: 2.5391905192644977e-30, nmse for BP: 1.2840432185224016e-22\n"
     ]
    }
   ],
   "source": [
    "n_arr = []\n",
    "nmse_arr_OMP = []\n",
    "nmse_arr_BP = []\n",
    "\n",
    "for ni in range(1,m): # ni represents the dimension of the observation vector\n",
    "    \n",
    "    A = initialise_random_matrix(ni, m)\n",
    "    b = create_observation_vector(A, x)\n",
    "    \n",
    "    # print(\"Running OMP\")\n",
    "    x_hat_Sx, S_x_hat = run_OMP(A, b, k0, tol=1e-10, maxiter=100)\n",
    "    # x_hat_OMP = construct_x_hat(x_hat_Sx, S_x_hat, A)\n",
    "    nmse_OMP = compute_NMSE(x=x, x_hat=x_hat_Sx)\n",
    "    nmse_arr_OMP.append(nmse_OMP)\n",
    "    \n",
    "    # print(\"Running SP\")\n",
    "    x_hat_BP = run_BP(A, b, k0, tol=1e-10, maxiter=100)\n",
    "    nmse_BP = compute_NMSE(x=x, x_hat=x_hat_BP)\n",
    "    nmse_arr_BP.append(nmse_BP)\n",
    "    n_arr.append(ni/m)\n",
    "    \n",
    "    print(\"n: {}, m: {}, nmse for OMP: {}, nmse for BP: {}\".format(ni, m, nmse_OMP, nmse_BP))\n",
    "    # print(\"n: {}, m: {}, k:{}, nmse for OMP: {}\".format(ni, m,np.count_nonzero(x_hat_Sx), nmse_OMP))\n",
    "    # print(\"-\"*100)\n"
   ]
  },
  {
   "cell_type": "markdown",
   "id": "d1a59695",
   "metadata": {},
   "source": [
    "### Observing the phase transition"
   ]
  },
  {
   "cell_type": "code",
   "execution_count": 13,
   "id": "93c1f654",
   "metadata": {},
   "outputs": [
    {
     "data": {
      "text/plain": [
       "Text(0, 0.5, 'NMSE')"
      ]
     },
     "execution_count": 13,
     "metadata": {},
     "output_type": "execute_result"
    },
    {
     "data": {
      "image/png": "[encoded data removed]",
      "text/plain": [
       "<Figure size 640x480 with 1 Axes>"
      ]
     },
     "metadata": {},
     "output_type": "display_data"
    }
   ],
   "source": [
    "fig,ax=plt.subplots()\n",
    "ax.plot(n_arr,nmse_arr_OMP,'k',lw=3) \n",
    "ax.set_title(\"Orthogonal Matching Pursuit\")\n",
    "ax.set_xlabel(\"n/m\")\n",
    "ax.set_ylabel(\"NMSE\")"
   ]
  },
  {
   "cell_type": "code",
   "execution_count": 15,
   "id": "c8505ad2",
   "metadata": {},
   "outputs": [
    {
     "data": {
      "text/plain": [
       "Text(0, 0.5, 'NMSE')"
      ]
     },
     "execution_count": 15,
     "metadata": {},
     "output_type": "execute_result"
    },
    {
     "data": {
      "image/png": "[encoded data removed]",
      "text/plain": [
       "<Figure size 640x480 with 1 Axes>"
      ]
     },
     "metadata": {},
     "output_type": "display_data"
    }
   ],
   "source": [
    "fig,ax=plt.subplots()\n",
    "ax.plot(n_arr,nmse_arr_BP,'k',lw=3) \n",
    "ax.set_title('Basis Pursuit')\n",
    "ax.set_xlabel(\"n/m\")\n",
    "ax.set_ylabel(\"NMSE\")"
   ]
  },
  {
   "cell_type": "code",
   "execution_count": 19,
   "id": "439b1144",
   "metadata": {},
   "outputs": [
    {
     "data": {
      "text/plain": [
       "(array([  6,  27,  32,  38,  94, 166, 184, 189]),)"
      ]
     },
     "execution_count": 19,
     "metadata": {},
     "output_type": "execute_result"
    }
   ],
   "source": [
    "np.where(x)"
   ]
  },
  {
   "cell_type": "code",
   "execution_count": 20,
   "id": "e1821669",
   "metadata": {},
   "outputs": [
    {
     "data": {
      "text/plain": [
       "(array([  6,  27,  32,  38,  94, 166, 184, 189]),)"
      ]
     },
     "execution_count": 20,
     "metadata": {},
     "output_type": "execute_result"
    }
   ],
   "source": [
    "np.where(x_hat_Sx)"
   ]
  },
  {
   "cell_type": "code",
   "execution_count": 22,
   "id": "871dd325",
   "metadata": {},
   "outputs": [
    {
     "data": {
      "text/plain": [
       "array([ 37, 125,  42,  90, 115,  77,  10,  80, 109,  67, 170,  56, 148,\n",
       "        61, 186, 139, 107, 140, 138, 124, 132, 162, 120, 130,  57, 147,\n",
       "        82,  17,  92,  13, 112,  31,  50,  98,  78, 169, 188, 154,  11,\n",
       "        73, 165,  81, 159,  95,  96, 119,   5, 101, 143, 192, 190,  69,\n",
       "       160, 122, 163,   2,  20, 123, 145, 180, 187,  35,  33,  18, 110,\n",
       "       183,  99, 131,  19, 129,  65, 193,   1,  54,  53,  16,  46,  64,\n",
       "        91,  72, 126,   7,  86, 153,  74, 116, 157,  76, 111,  23, 127,\n",
       "        25, 102, 142,  36, 155, 118, 158, 197, 175,  60,  71,  87,  21,\n",
       "        68,  29, 178,   4,  55,  75, 108,  85,  40, 182,   9, 185, 177,\n",
       "       164,  12, 117, 151,  41, 191,  63, 198,  58, 172, 149,  89,   3,\n",
       "         0,  24,  30, 152, 161, 128,  70,  22, 174, 141,  43,  79,  44,\n",
       "        84, 134, 133, 173,  59, 194,  39,  28, 168, 156,  45,  48,  51,\n",
       "        26, 135, 171,  83,   8, 195,  97,  49, 199, 196, 105, 114, 179,\n",
       "       146, 106, 104,  14,  93, 113,  88, 100,  66,  34, 121,  47, 103,\n",
       "       136, 137, 176, 144,  62,  15, 167,  52, 150, 181,  32,  94,  38,\n",
       "         6,  27, 166, 189, 184])"
      ]
     },
     "execution_count": 22,
     "metadata": {},
     "output_type": "execute_result"
    }
   ],
   "source": [
    "np.argsort(x_hat_BP)"
   ]
  }
 ],
 "metadata": {
  "kernelspec": {
   "display_name": "Python 3.10.6 ('project2')",
   "language": "python",
   "name": "python3"
  },
  "language_info": {
   "codemirror_mode": {
    "name": "ipython",
    "version": 3
   },
   "file_extension": ".py",
   "mimetype": "text/x-python",
   "name": "python",
   "nbconvert_exporter": "python",
   "pygments_lexer": "ipython3",
   "version": "3.10.6"
  },
  "vscode": {
   "interpreter": {
    "hash": "91dc0ba60b8b61e812ac3bbfff85563090cd8389caf861109a1f02258ea59cdd"
   }
  }
 },
 "nbformat": 4,
 "nbformat_minor": 5
}
